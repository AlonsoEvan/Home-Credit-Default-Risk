{
 "cells": [
  {
   "cell_type": "code",
   "execution_count": 2,
   "metadata": {},
   "outputs": [],
   "source": [
    "import numpy as np\n",
    "import pandas as pd \n",
    "\n",
    "# sklearn preprocessing for dealing with categorical variables\n",
    "from sklearn.preprocessing import LabelEncoder, PolynomialFeatures, MinMaxScaler\n",
    "from sklearn.impute import SimpleImputer\n",
    "\n",
    "train = pd.read_csv('application_train.csv')\n",
    "test = pd.read_csv('application_test.csv')"
   ]
  },
  {
   "cell_type": "code",
   "execution_count": 64,
   "metadata": {},
   "outputs": [],
   "source": [
    "def poly_features(train, test, degree):\n",
    "    \n",
    "    print('Training shape :', train.shape)\n",
    "    print('Testing shape :', test.shape)\n",
    "\n",
    "    poly_feat = train[['EXT_SOURCE_1', 'EXT_SOURCE_2', 'EXT_SOURCE_3', 'DAYS_BIRTH', 'TARGET']]\n",
    "\n",
    "\n",
    "    poly_feat_test = test[['EXT_SOURCE_1', 'EXT_SOURCE_2', 'EXT_SOURCE_3', 'DAYS_BIRTH']]\n",
    "\n",
    "\n",
    "    imputer = SimpleImputer(strategy = 'median')\n",
    "\n",
    "    poly_target = poly_feat['TARGET']\n",
    "    poly_feat = poly_feat.drop(columns = ['TARGET'])\n",
    "\n",
    "    poly_feat = imputer.fit_transform(poly_feat)\n",
    "    poly_feat_test = imputer.transform(poly_feat_test)\n",
    "\n",
    "    #polynomial transformations\n",
    "    poly_transformer = PolynomialFeatures(degree = degree)\n",
    "\n",
    "    poly_feat = poly_transformer.fit_transform(poly_feat)\n",
    "    poly_feat_test = poly_transformer.transform(poly_feat_test)\n",
    "\n",
    "    print('\\nPolynomial features shapes :', poly_feat.shape)\n",
    "    print('Polynomial features shapes:' , poly_feat_test.shape)\n",
    "\n",
    "\n",
    "\n",
    "    poly_feat = pd.DataFrame(poly_feat, columns = poly_transformer.get_feature_names(['EXT_SOURCE_1', 'EXT_SOURCE_2', \n",
    "                                                                               'EXT_SOURCE_3', 'DAYS_BIRTH']))\n",
    "\n",
    "    poly_feat['TARGET'] = poly_target\n",
    "\n",
    "    poly_corr = poly_feat.corr()['TARGET'].abs().sort_values(ascending = False)\n",
    "    \n",
    "    print('\\nCorrelation between TARGET and polynomial features')\n",
    "    print('')\n",
    "    print(poly_corr)\n",
    "\n",
    "    # Put test features into dataframe\n",
    "    poly_feat_test = pd.DataFrame(poly_feat_test, \n",
    "                                      columns = poly_transformer.get_feature_names(['EXT_SOURCE_1', 'EXT_SOURCE_2', \n",
    "                                                                                    'EXT_SOURCE_3', 'DAYS_BIRTH']))\n",
    "\n",
    "    # Merge polynomial features into training dataframe\n",
    "    poly_feat['SK_ID_CURR'] = train['SK_ID_CURR']\n",
    "    train_poly = train.merge(poly_feat, on = 'SK_ID_CURR', how = 'left')\n",
    "\n",
    "    # Merge polynomial features into testing dataframe\n",
    "    poly_feat_test['SK_ID_CURR'] = test['SK_ID_CURR']\n",
    "    test_poly = test.merge(poly_feat_test, on = 'SK_ID_CURR', how = 'left')\n",
    "\n",
    "    train_poly, test_poly = train_poly.align(test_poly, join = 'inner', axis = 1)\n",
    "\n",
    "    print('\\nTraining polynomial data shapes :', train_poly.shape)\n",
    "    print('Testing polynomial data shapes :', test_poly.shape)\n",
    "    \n",
    "    return train_poly, test_poly"
   ]
  },
  {
   "cell_type": "code",
   "execution_count": 65,
   "metadata": {},
   "outputs": [
    {
     "name": "stdout",
     "output_type": "stream",
     "text": [
      "Training shape : (307511, 122)\n",
      "Testing shape : (48744, 121)\n",
      "\n",
      "Polynomial features shapes : (307511, 35)\n",
      "Polynomial features shapes: (48744, 35)\n",
      "\n",
      "Correlation between TARGET and polynomial features\n",
      "\n",
      "TARGET                                    1.000000\n",
      "EXT_SOURCE_2 EXT_SOURCE_3                 0.193939\n",
      "EXT_SOURCE_1 EXT_SOURCE_2 EXT_SOURCE_3    0.189605\n",
      "EXT_SOURCE_2 EXT_SOURCE_3 DAYS_BIRTH      0.181283\n",
      "EXT_SOURCE_2^2 EXT_SOURCE_3               0.176428\n",
      "EXT_SOURCE_2 EXT_SOURCE_3^2               0.172282\n",
      "EXT_SOURCE_1 EXT_SOURCE_2                 0.166625\n",
      "EXT_SOURCE_1 EXT_SOURCE_3                 0.164065\n",
      "EXT_SOURCE_2                              0.160295\n",
      "EXT_SOURCE_2 DAYS_BIRTH                   0.156873\n",
      "EXT_SOURCE_1 EXT_SOURCE_2^2               0.156867\n",
      "EXT_SOURCE_3                              0.155892\n",
      "EXT_SOURCE_1 EXT_SOURCE_2 DAYS_BIRTH      0.155891\n",
      "EXT_SOURCE_1 EXT_SOURCE_3 DAYS_BIRTH      0.151816\n",
      "EXT_SOURCE_1 EXT_SOURCE_3^2               0.150822\n",
      "EXT_SOURCE_3 DAYS_BIRTH                   0.150109\n",
      "EXT_SOURCE_2^2                            0.149512\n",
      "EXT_SOURCE_2^2 DAYS_BIRTH                 0.149313\n",
      "EXT_SOURCE_3^2 DAYS_BIRTH                 0.141777\n",
      "EXT_SOURCE_3^2                            0.141662\n",
      "EXT_SOURCE_2^3                            0.140243\n",
      "EXT_SOURCE_1^2 EXT_SOURCE_2               0.140185\n",
      "EXT_SOURCE_1^2 EXT_SOURCE_3               0.138846\n",
      "EXT_SOURCE_2 DAYS_BIRTH^2                 0.132839\n",
      "EXT_SOURCE_3^3                            0.128213\n",
      "EXT_SOURCE_3 DAYS_BIRTH^2                 0.126950\n",
      "EXT_SOURCE_1 DAYS_BIRTH                   0.104882\n",
      "EXT_SOURCE_1                              0.098887\n",
      "EXT_SOURCE_1^2 DAYS_BIRTH                 0.097507\n",
      "EXT_SOURCE_1 DAYS_BIRTH^2                 0.094913\n",
      "EXT_SOURCE_1^2                            0.091034\n",
      "EXT_SOURCE_1^3                            0.083005\n",
      "DAYS_BIRTH                                0.078239\n",
      "DAYS_BIRTH^2                              0.076672\n",
      "DAYS_BIRTH^3                              0.074273\n",
      "1                                              NaN\n",
      "Name: TARGET, dtype: float64\n",
      "\n",
      "Training polynomial data shapes : (307511, 156)\n",
      "Testing polynomial data shapes : (48744, 156)\n"
     ]
    }
   ],
   "source": [
    "train_poly, test_poly = poly_features(train, test, 3)"
   ]
  },
  {
   "cell_type": "code",
   "execution_count": 66,
   "metadata": {},
   "outputs": [
    {
     "name": "stdout",
     "output_type": "stream",
     "text": [
      "(307511, 156)\n",
      "(48744, 156)\n"
     ]
    }
   ],
   "source": [
    "print(train_poly.shape)\n",
    "print(test_poly.shape)"
   ]
  },
  {
   "cell_type": "code",
   "execution_count": null,
   "metadata": {},
   "outputs": [],
   "source": []
  }
 ],
 "metadata": {
  "kernelspec": {
   "display_name": "Python 3",
   "language": "python",
   "name": "python3"
  },
  "language_info": {
   "codemirror_mode": {
    "name": "ipython",
    "version": 3
   },
   "file_extension": ".py",
   "mimetype": "text/x-python",
   "name": "python",
   "nbconvert_exporter": "python",
   "pygments_lexer": "ipython3",
   "version": "3.7.3"
  }
 },
 "nbformat": 4,
 "nbformat_minor": 4
}
